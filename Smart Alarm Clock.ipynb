{
 "cells": [
  {
   "cell_type": "markdown",
   "id": "2b6ae842",
   "metadata": {},
   "source": [
    "# \"\"\"ALARM CLOCK\"\"\""
   ]
  },
  {
   "cell_type": "code",
   "execution_count": 2,
   "id": "3c7d6ca0",
   "metadata": {},
   "outputs": [],
   "source": [
    "#Importing all the necessary libraries to form the alarm clock:\n",
    "from tkinter import *\n",
    "import datetime\n",
    "import time\n",
    "import winsound\n",
    "\n",
    "def alarm(set_alarm_timer,new_date):\n",
    "    while 1:\n",
    "        time.sleep(1)\n",
    "        current_time = datetime.datetime.now()\n",
    "        now = current_time.strftime(\"%H:%M:%S\")\n",
    "        date = current_time.strftime(\"%d/%m/%Y\")\n",
    "        print(\"The Alarm Is Set On :\",new_date)\n",
    "        print(\"Time=\",now)\n",
    "        if now == set_alarm_timer and date==new_date:\n",
    "            print(\"*******TIME TO WAKE UP********\")\n",
    "            winsound.PlaySound(\"/Users\\SAI KIRAN\\Downloads\\mixkit-warning-alarm-buzzer-991.wav\",winsound.SND_ASYNC)\n",
    "            break\n",
    "            \n",
    "def actual_time():\n",
    "    set_alarm_timer = f\"{hour.get()}:{min.get()}:{sec.get()}\"\n",
    "    new_date=f\"{Date.get()}/{Month.get()}/{Year.get()}\"\n",
    "    alarm(set_alarm_timer,new_date)\n",
    "    \n",
    "#Creating GUI Using Tkinter\n",
    "clock = Tk()\n",
    "clock.title(\" ALARM CLOCK BY TEAM-1\")\n",
    "clock.geometry(\"500x300\")\n",
    "time_format=Label(clock, text= \"Enter time in 24 hour format!\", fg=\"gold\",bg=\"black\",font=\"bold\").place(x=120,y=200)\n",
    "addDate= Label(clock,text = \"Date Month Year\",font=60).place(x=160)\n",
    "addTime = Label(clock,text = \"Hour  Min   Sec\",font=60).place(x = 160,y=60)\n",
    "setYourAlarm = Label(clock,text =\"When to wake you up?\",fg=\"darkblue\",relief=\"solid\",font=(\"Arial\",9,\"bold\")).place(x=0,y=45)\n",
    "\n",
    "# The Variables we require to set the alarm(initialization):\n",
    "hour = StringVar()\n",
    "min = StringVar()\n",
    "sec = StringVar()\n",
    "\n",
    "Date=StringVar()\n",
    "Month=StringVar()\n",
    "Year=StringVar()\n",
    "\n",
    "#Date Required to set the alarm clock\n",
    "DateTime= Entry(clock,textvariable = Date,bg = \"yellow\",width = 15).place(x=160,y=30)\n",
    "MonthTime= Entry(clock,textvariable = Month,bg = \"orange\",width = 15).place(x=200,y=30)\n",
    "YearTime= Entry(clock,textvariable = Year,bg = \"lightgreen\",width = 10).place(x=250,y=30)\n",
    "\n",
    "#Time required to set the alarm clock:\n",
    "hourTime= Entry(clock,textvariable = hour,bg = \"yellow\",width = 15).place(x=160,y=90)\n",
    "minTime= Entry(clock,textvariable = min,bg = \"orange\",width = 15).place(x=200,y=90)\n",
    "secTime = Entry(clock,textvariable = sec,bg = \"lightgreen\",width = 10).place(x=250,y=90)\n",
    "\n",
    "#To take the time input by user:\n",
    "submit = Button(clock,text =\"Set Alarm\",fg=\"red\",relief=\"raised\",font=(\"Arial\",10,\"bold\"),width=15,command=actual_time).place(x =170,y=140)\n",
    "clock.mainloop()"
   ]
  },
  {
   "cell_type": "code",
   "execution_count": 3,
   "id": "fd619984",
   "metadata": {},
   "outputs": [
    {
     "name": "stdout",
     "output_type": "stream",
     "text": [
      "The Alarm Is Set On Date= 02:11:2021\n"
     ]
    }
   ],
   "source": [
    "#To Know The Date We Set On Alarm Clock\n",
    "new_date=f\"{Date.get()}:{Month.get()}:{Year.get()}\"\n",
    "print(\"The Alarm Is Set On Date=\",new_date)"
   ]
  },
  {
   "cell_type": "code",
   "execution_count": 4,
   "id": "35b04e07",
   "metadata": {},
   "outputs": [
    {
     "name": "stdout",
     "output_type": "stream",
     "text": [
      "Time Of Setting= 22:15:50\n"
     ]
    }
   ],
   "source": [
    "# To Know The Time We Set On Alarm Clock\n",
    "set_alarm_timer = f\"{hour.get()}:{min.get()}:{sec.get()}\"\n",
    "print(\"Time Of Setting=\",set_alarm_timer)\n"
   ]
  },
  {
   "cell_type": "code",
   "execution_count": null,
   "id": "e3088575",
   "metadata": {},
   "outputs": [],
   "source": []
  }
 ],
 "metadata": {
  "kernelspec": {
   "display_name": "Python 3",
   "language": "python",
   "name": "python3"
  },
  "language_info": {
   "codemirror_mode": {
    "name": "ipython",
    "version": 3
   },
   "file_extension": ".py",
   "mimetype": "text/x-python",
   "name": "python",
   "nbconvert_exporter": "python",
   "pygments_lexer": "ipython3",
   "version": "3.8.8"
  }
 },
 "nbformat": 4,
 "nbformat_minor": 5
}
